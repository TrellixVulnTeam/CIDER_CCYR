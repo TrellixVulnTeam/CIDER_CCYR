{
 "cells": [
  {
   "cell_type": "code",
   "execution_count": 7,
   "metadata": {},
   "outputs": [],
   "source": [
    "import os\n",
    "from collections import defaultdict\n",
    "import pandas as pd"
   ]
  },
  {
   "cell_type": "code",
   "execution_count": 3,
   "metadata": {},
   "outputs": [],
   "source": [
    "nli_data_dir = '/home/emrys/Data/csk_data/csk_nli_22_01/'\n",
    "filenames = os.listdir(nli_data_dir)"
   ]
  },
  {
   "cell_type": "markdown",
   "metadata": {},
   "source": [
    "## Relation prediction"
   ]
  },
  {
   "cell_type": "code",
   "execution_count": 4,
   "metadata": {},
   "outputs": [
    {
     "data": {
      "text/plain": [
       "['fold3_w_neg_test_lemma.tsv',\n",
       " 'fold1_w_neg_test_lemma.tsv',\n",
       " 'fold5_w_neg_test_lemma.tsv',\n",
       " 'fold1_w_neg_train_lemma.tsv',\n",
       " 'fold3_w_neg_train_lemma.tsv',\n",
       " 'fold4_w_neg_test_lemma.tsv',\n",
       " 'fold4_w_neg_train_lemma.tsv',\n",
       " 'fold2_w_neg_train_lemma.tsv',\n",
       " 'fold5_w_neg_train_lemma.tsv',\n",
       " 'fold2_w_neg_test_lemma.tsv']"
      ]
     },
     "execution_count": 4,
     "metadata": {},
     "output_type": "execute_result"
    }
   ],
   "source": [
    "filenames"
   ]
  },
  {
   "cell_type": "code",
   "execution_count": 24,
   "metadata": {},
   "outputs": [],
   "source": [
    "with open('relations.txt', 'w') as f:\n",
    "    for o in rels_set: f.write(o + '\\n')"
   ]
  },
  {
   "cell_type": "code",
   "execution_count": 19,
   "metadata": {},
   "outputs": [],
   "source": [
    "rels_set = set()\n",
    "count = 0\n",
    "for fn in filenames:\n",
    "    with open(f'{nli_data_dir}/{fn}') as f:\n",
    "        lines = f.readlines()\n",
    "    dd = defaultdict(list)\n",
    "    for l in lines:\n",
    "        l = l.strip()\n",
    "        dlg, a1, rel, a2, label = l.split('\\t')\n",
    "        label = rel if label == 'entailment' else 'NULL'\n",
    "        dd['\\t'.join([dlg, a1, a2])].append(label)\n",
    "        rels_set.add(label)\n",
    "    \n",
    "    \n",
    "    triplets = []\n",
    "    for k, v in dd.items():\n",
    "        if len(v) > 1:\n",
    "            v = [o for o in v if o != 'NULL']\n",
    "        dlg, a1, a2 = k.split('\\t')            \n",
    "        for vv in v:\n",
    "            triplets.append([count, dlg, f'{a1} [SEP] {a2}', vv])\n",
    "            count += 1\n",
    "    df = pd.DataFrame(triplets, columns=['id', 'sentence1', 'sentence2', 'label'])\n",
    "    df.to_csv(fn[:-4] + '.csv', index=False)"
   ]
  },
  {
   "cell_type": "code",
   "execution_count": 23,
   "metadata": {},
   "outputs": [],
   "source": [
    "rels_set = set()\n",
    "count = 0\n",
    "for fn in filenames:\n",
    "    with open(f'{nli_data_dir}/{fn}') as f:\n",
    "        lines = f.readlines()\n",
    "    dd = defaultdict(list)\n",
    "    for l in lines:\n",
    "        l = l.strip()\n",
    "        dlg, a1, rel, a2, label = l.split('\\t')\n",
    "        if label == 'entailment': label = rel\n",
    "        else: continue\n",
    "        dd['\\t'.join([dlg, a1, a2])].append(label)\n",
    "        rels_set.add(label)\n",
    "    \n",
    "    \n",
    "    triplets = []\n",
    "    for k, v in dd.items():\n",
    "        if len(v) > 1:\n",
    "            v = [o for o in v if o != 'NULL']\n",
    "        dlg, a1, a2 = k.split('\\t')            \n",
    "        for vv in v:\n",
    "            triplets.append([count, dlg, f'{a1} [SEP] {a2}', vv])\n",
    "            count += 1\n",
    "    \n",
    "    df = pd.DataFrame(triplets, columns=['id', 'sentence1', 'sentence2', 'label'])\n",
    "    fold_n = fn[4]\n",
    "    file_type = 'train' if 'train' in fn else 'test'\n",
    "    df.to_csv(f\"fold{fold_n}_{file_type}_lemma.csv\", index=False)"
   ]
  },
  {
   "cell_type": "code",
   "execution_count": null,
   "metadata": {},
   "outputs": [],
   "source": []
  }
 ],
 "metadata": {
  "kernelspec": {
   "display_name": "Python 3",
   "language": "python",
   "name": "python3"
  },
  "language_info": {
   "codemirror_mode": {
    "name": "ipython",
    "version": 3
   },
   "file_extension": ".py",
   "mimetype": "text/x-python",
   "name": "python",
   "nbconvert_exporter": "python",
   "pygments_lexer": "ipython3",
   "version": "3.8.5"
  }
 },
 "nbformat": 4,
 "nbformat_minor": 4
}
